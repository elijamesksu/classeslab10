{
 "cells": [
  {
   "cell_type": "code",
   "execution_count": 13,
   "id": "ff259d8f-1b1c-461a-937a-d1e2b970190b",
   "metadata": {},
   "outputs": [
    {
     "name": "stdout",
     "output_type": "stream",
     "text": [
      "These are the full names below!\n",
      "Eli james\n",
      "chris short\n",
      "Gregory chiles\n",
      "Lebron James\n",
      "Andrew Ross\n"
     ]
    }
   ],
   "source": [
    "class Person:\n",
    "    people = []\n",
    "    def __init__(self,first,last):\n",
    "        self.first = first\n",
    "        self.last = last \n",
    "        Person.people.append(self)\n",
    "    def full_name(self):\n",
    "        return self.first + \" \" + self.last\n",
    "    @classmethod\n",
    "    def print_people(xxx):\n",
    "        for person in xxx.people:\n",
    "            print(person.full_name())\n",
    "pers1 = Person(\"Eli\", \"James\")\n",
    "pers2 = Person(\"Chris\",\"Short\")\n",
    "pers3 = Person(\"Gregory\", \"Chiles\")\n",
    "pers4 = Person(\"Lebron\", \"James\")\n",
    "pers5 = Person(\"Andrew\", \"Ross\")\n",
    "print(\"These are the full names below!\")\n",
    "Person.print_people()"
   ]
  },
  {
   "cell_type": "code",
   "execution_count": 25,
   "id": "6ba0e505-7a23-44c2-b662-674b37f98808",
   "metadata": {},
   "outputs": [
    {
     "name": "stdout",
     "output_type": "stream",
     "text": [
      "                                   -----------THIS IS THE LIST OF STUDENTS AND THEIR CLASSES----------\n",
      "Eli james ['Fundamentals of Programming', 'Calculus 2', 'Intro to computer engineering', 'Applied Matrix Theory', 'Full Stack Web Development']\n",
      "Chris Short ['Math 100', 'Psychology', 'Intro to Web Development', 'Applied Matrix Theory', 'Chemistry 1']\n",
      "Gregory Chiles ['Math 150', 'Sociology', 'Physics', 'Data and Program Strucutres', 'Database System Concepts']\n",
      "Lebron James ['Introduction to algorithm Analysis', 'First year writing', 'Intro to Web Development', 'Applied Matrix Theory', 'Chemistry 1']\n",
      "Andrtew Ross ['Calculus 2', 'Psychology 200', 'Intro to Anthropology', 'First year Writing', 'Chemistry 2']\n",
      "                                             -----------KANSAS STATE UNIVERSITY 2022----------\n"
     ]
    }
   ],
   "source": [
    "class Student(Person):\n",
    "    def __init__(self,first,last):\n",
    "        super().__init__(first,last)\n",
    "        self.courses = []\n",
    "    def add_course(self,course):\n",
    "        self.courses.append(course)\n",
    "    def __str__(self):\n",
    "        return self.full_name() + \" \" + str(self.courses)\n",
    "print(\"                                   -----------THIS IS THE LIST OF STUDENTS AND THEIR CLASSES----------\")\n",
    "stu1 = Student(\"Eli\", \"james\")\n",
    "stu1.add_course(\"Fundamentals of Programming\")\n",
    "stu1.add_course(\"Calculus 2\")\n",
    "stu1.add_course(\"Intro to computer engineering\")\n",
    "stu1.add_course(\"Applied Matrix Theory\")\n",
    "stu1.add_course(\"Full Stack Web Development\")\n",
    "print(stu1)\n",
    "stu2 = Student(\"Chris\", \"Short\")\n",
    "stu2.add_course(\"Math 100\")\n",
    "stu2.add_course(\"Psychology\")\n",
    "stu2.add_course(\"Intro to Web Development\")\n",
    "stu2.add_course(\"Applied Matrix Theory\")\n",
    "stu2.add_course(\"Chemistry 1\")\n",
    "print(stu2)\n",
    "stu3 = Student(\"Gregory\", \"Chiles\")\n",
    "stu3.add_course(\"Math 150\")\n",
    "stu3.add_course(\"Sociology\")\n",
    "stu3.add_course(\"Physics\")\n",
    "stu3.add_course(\"Data and Program Strucutres\")\n",
    "stu3.add_course(\"Database System Concepts\")\n",
    "print(stu3)\n",
    "stu4 = Student(\"Lebron\", \"James\")\n",
    "stu4.add_course(\"Introduction to algorithm Analysis\")\n",
    "stu4.add_course(\"First year writing\")\n",
    "stu4.add_course(\"Intro to Web Development\")\n",
    "stu4.add_course(\"Applied Matrix Theory\")\n",
    "stu4.add_course(\"Chemistry 1\")\n",
    "print(stu4)\n",
    "stu5 = Student(\"Andrtew\", \"Ross\")\n",
    "stu5.add_course(\"Calculus 2\")\n",
    "stu5.add_course(\"Psychology 200\")\n",
    "stu5.add_course(\"Intro to Anthropology\")\n",
    "stu5.add_course(\"First year Writing\")\n",
    "stu5.add_course(\"Chemistry 2\")\n",
    "print(stu5)\n",
    "print(\"                                             -----------KANSAS STATE UNIVERSITY 2022----------\")\n",
    "\n",
    "        \n",
    "        "
   ]
  },
  {
   "cell_type": "code",
   "execution_count": null,
   "id": "b3377f98-d7d4-4df0-a14a-6c7704d144c3",
   "metadata": {},
   "outputs": [],
   "source": []
  }
 ],
 "metadata": {
  "kernelspec": {
   "display_name": "Python 3 (ipykernel)",
   "language": "python",
   "name": "python3"
  },
  "language_info": {
   "codemirror_mode": {
    "name": "ipython",
    "version": 3
   },
   "file_extension": ".py",
   "mimetype": "text/x-python",
   "name": "python",
   "nbconvert_exporter": "python",
   "pygments_lexer": "ipython3",
   "version": "3.10.6"
  }
 },
 "nbformat": 4,
 "nbformat_minor": 5
}
